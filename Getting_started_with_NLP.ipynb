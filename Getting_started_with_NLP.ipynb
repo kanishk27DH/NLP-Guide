{
 "cells": [
  {
   "cell_type": "markdown",
   "metadata": {},
   "source": [
    "# Tokenizing text"
   ]
  },
  {
   "cell_type": "code",
   "execution_count": 1,
   "metadata": {},
   "outputs": [],
   "source": [
    "#spacy \n",
    "import spacy"
   ]
  },
  {
   "cell_type": "code",
   "execution_count": 2,
   "metadata": {},
   "outputs": [],
   "source": [
    "nlp = spacy.load('en_core_web_sm')"
   ]
  },
  {
   "cell_type": "code",
   "execution_count": 3,
   "metadata": {},
   "outputs": [],
   "source": [
    "text1 = \"If you ate two apples, then you are rich but if you could eat 2 onions, you are richer.\""
   ]
  },
  {
   "cell_type": "code",
   "execution_count": 4,
   "metadata": {},
   "outputs": [
    {
     "name": "stdout",
     "output_type": "stream",
     "text": [
      "['If', 'you', 'ate', 'two', 'apples', ',', 'then', 'you', 'are', 'rich', 'but', 'if', 'you', 'could', 'eat', '2', 'onions', ',', 'you', 'are', 'richer', '.']\n"
     ]
    }
   ],
   "source": [
    "print([str(token) for token in nlp(text1)])"
   ]
  },
  {
   "cell_type": "code",
   "execution_count": 5,
   "metadata": {},
   "outputs": [],
   "source": [
    "#nltk\n",
    "import nltk"
   ]
  },
  {
   "cell_type": "code",
   "execution_count": 6,
   "metadata": {},
   "outputs": [],
   "source": [
    "text2 = \"Hence, I am the richest of all because I can eat both.\""
   ]
  },
  {
   "cell_type": "code",
   "execution_count": 7,
   "metadata": {},
   "outputs": [
    {
     "name": "stdout",
     "output_type": "stream",
     "text": [
      "['Hence', ',', 'I', 'am', 'the', 'richest', 'of', 'all', 'because', 'I', 'can', 'eat', 'both', '.']\n"
     ]
    }
   ],
   "source": [
    "tokenized = nltk.word_tokenize(text2)\n",
    "print(tokenized)"
   ]
  },
  {
   "cell_type": "markdown",
   "metadata": {},
   "source": [
    "# N-grams"
   ]
  },
  {
   "cell_type": "code",
   "execution_count": 8,
   "metadata": {},
   "outputs": [],
   "source": [
    "def n_grams(text, n):\n",
    "    return [text[i:i+n] for i in range(len(text)-n+1)]"
   ]
  },
  {
   "cell_type": "code",
   "execution_count": 9,
   "metadata": {},
   "outputs": [
    {
     "name": "stdout",
     "output_type": "stream",
     "text": [
      "[['Hence', ',', 'I'], [',', 'I', 'am'], ['I', 'am', 'the'], ['am', 'the', 'richest'], ['the', 'richest', 'of'], ['richest', 'of', 'all'], ['of', 'all', 'because'], ['all', 'because', 'I'], ['because', 'I', 'can'], ['I', 'can', 'eat'], ['can', 'eat', 'both'], ['eat', 'both', '.']]\n"
     ]
    }
   ],
   "source": [
    "print(n_grams(tokenized, 3))"
   ]
  },
  {
   "cell_type": "code",
   "execution_count": 10,
   "metadata": {},
   "outputs": [
    {
     "name": "stdout",
     "output_type": "stream",
     "text": [
      "[['Hence', ',', 'I', 'am', 'the'], [',', 'I', 'am', 'the', 'richest'], ['I', 'am', 'the', 'richest', 'of'], ['am', 'the', 'richest', 'of', 'all'], ['the', 'richest', 'of', 'all', 'because'], ['richest', 'of', 'all', 'because', 'I'], ['of', 'all', 'because', 'I', 'can'], ['all', 'because', 'I', 'can', 'eat'], ['because', 'I', 'can', 'eat', 'both'], ['I', 'can', 'eat', 'both', '.']]\n"
     ]
    }
   ],
   "source": [
    "print(n_grams(tokenized, 5))"
   ]
  },
  {
   "cell_type": "code",
   "execution_count": 11,
   "metadata": {},
   "outputs": [
    {
     "name": "stdout",
     "output_type": "stream",
     "text": [
      "[['Hence', ',', 'I', 'am', 'the', 'richest', 'of', 'all', 'because', 'I', 'can', 'eat', 'both', '.']]\n"
     ]
    }
   ],
   "source": [
    "print(n_grams(tokenized, 14))"
   ]
  },
  {
   "cell_type": "code",
   "execution_count": 12,
   "metadata": {},
   "outputs": [
    {
     "name": "stdout",
     "output_type": "stream",
     "text": [
      "[]\n"
     ]
    }
   ],
   "source": [
    "print(n_grams(tokenized, 15))"
   ]
  },
  {
   "cell_type": "markdown",
   "metadata": {},
   "source": [
    "# Lemmatization"
   ]
  },
  {
   "cell_type": "code",
   "execution_count": 13,
   "metadata": {},
   "outputs": [
    {
     "name": "stdout",
     "output_type": "stream",
     "text": [
      "If --> if\n",
      "you --> -PRON-\n",
      "ate --> eat\n",
      "two --> two\n",
      "apples --> apple\n",
      ", --> ,\n",
      "then --> then\n",
      "you --> -PRON-\n",
      "are --> be\n",
      "rich --> rich\n",
      "but --> but\n",
      "if --> if\n",
      "you --> -PRON-\n",
      "could --> could\n",
      "eat --> eat\n",
      "2 --> 2\n",
      "onions --> onion\n",
      ", --> ,\n",
      "you --> -PRON-\n",
      "are --> be\n",
      "richer --> rich\n",
      ". --> .\n"
     ]
    }
   ],
   "source": [
    "for token in nlp(text1):\n",
    "    print('{} --> {}'.format(token, token.lemma_))"
   ]
  },
  {
   "cell_type": "code",
   "execution_count": 14,
   "metadata": {},
   "outputs": [
    {
     "name": "stdout",
     "output_type": "stream",
     "text": [
      "Hence --> hence\n",
      ", --> ,\n",
      "I --> -PRON-\n",
      "am --> be\n",
      "the --> the\n",
      "richest --> rich\n",
      "of --> of\n",
      "all --> all\n",
      "because --> because\n",
      "I --> -PRON-\n",
      "can --> can\n",
      "eat --> eat\n",
      "both --> both\n",
      ". --> .\n"
     ]
    }
   ],
   "source": [
    "for token in nlp(text2):\n",
    "    print('{} --> {}'.format(token, token.lemma_))"
   ]
  },
  {
   "cell_type": "markdown",
   "metadata": {},
   "source": [
    "# Stemming"
   ]
  },
  {
   "cell_type": "code",
   "execution_count": 15,
   "metadata": {},
   "outputs": [],
   "source": [
    "#porter stemmer\n",
    "from nltk.stem.porter import *"
   ]
  },
  {
   "cell_type": "code",
   "execution_count": 16,
   "metadata": {},
   "outputs": [],
   "source": [
    "porterStemmer = PorterStemmer()"
   ]
  },
  {
   "cell_type": "code",
   "execution_count": 17,
   "metadata": {},
   "outputs": [],
   "source": [
    "stemWords = [porterStemmer.stem(word) for word in tokenized]"
   ]
  },
  {
   "cell_type": "code",
   "execution_count": 18,
   "metadata": {},
   "outputs": [
    {
     "name": "stdout",
     "output_type": "stream",
     "text": [
      "['henc', ',', 'I', 'am', 'the', 'richest', 'of', 'all', 'becaus', 'I', 'can', 'eat', 'both', '.']\n"
     ]
    }
   ],
   "source": [
    "print(stemWords)"
   ]
  },
  {
   "cell_type": "code",
   "execution_count": 19,
   "metadata": {},
   "outputs": [
    {
     "name": "stdout",
     "output_type": "stream",
     "text": [
      "henc , I am the richest of all becaus I can eat both .\n"
     ]
    }
   ],
   "source": [
    "print(' '.join(stemWords))"
   ]
  },
  {
   "cell_type": "code",
   "execution_count": 20,
   "metadata": {},
   "outputs": [],
   "source": [
    "#snowball stemmer\n",
    "from nltk.stem.snowball import SnowballStemmer\n",
    "snowBallStemmer = SnowballStemmer(\"english\")"
   ]
  },
  {
   "cell_type": "code",
   "execution_count": 21,
   "metadata": {},
   "outputs": [],
   "source": [
    "stemWords = [snowBallStemmer.stem(word) for word in tokenized]"
   ]
  },
  {
   "cell_type": "code",
   "execution_count": 22,
   "metadata": {},
   "outputs": [
    {
     "name": "stdout",
     "output_type": "stream",
     "text": [
      "['henc', ',', 'i', 'am', 'the', 'richest', 'of', 'all', 'becaus', 'i', 'can', 'eat', 'both', '.']\n"
     ]
    }
   ],
   "source": [
    "print(stemWords)"
   ]
  },
  {
   "cell_type": "code",
   "execution_count": 23,
   "metadata": {},
   "outputs": [
    {
     "name": "stdout",
     "output_type": "stream",
     "text": [
      "henc , i am the richest of all becaus i can eat both .\n"
     ]
    }
   ],
   "source": [
    "print(' '.join(stemWords))"
   ]
  },
  {
   "cell_type": "code",
   "execution_count": 24,
   "metadata": {},
   "outputs": [],
   "source": [
    "#lancaster stemmer\n",
    "from nltk.stem.lancaster import *\n",
    "lancasterStemmer = LancasterStemmer()"
   ]
  },
  {
   "cell_type": "code",
   "execution_count": 25,
   "metadata": {},
   "outputs": [],
   "source": [
    "stemWords = [lancasterStemmer.stem(word) for word in tokenized]"
   ]
  },
  {
   "cell_type": "code",
   "execution_count": 26,
   "metadata": {},
   "outputs": [
    {
     "name": "stdout",
     "output_type": "stream",
     "text": [
      "['hent', ',', 'i', 'am', 'the', 'richest', 'of', 'al', 'becaus', 'i', 'can', 'eat', 'both', '.']\n"
     ]
    }
   ],
   "source": [
    "print(stemWords)"
   ]
  },
  {
   "cell_type": "code",
   "execution_count": 27,
   "metadata": {},
   "outputs": [
    {
     "name": "stdout",
     "output_type": "stream",
     "text": [
      "hent , i am the richest of al becaus i can eat both .\n"
     ]
    }
   ],
   "source": [
    "print(' '.join(stemWords))"
   ]
  },
  {
   "cell_type": "markdown",
   "metadata": {},
   "source": [
    "# Stopwords "
   ]
  },
  {
   "cell_type": "code",
   "execution_count": 28,
   "metadata": {
    "scrolled": false
   },
   "outputs": [
    {
     "name": "stdout",
     "output_type": "stream",
     "text": [
      "326\n",
      "{'latterly', 'became', 'twenty', 'regarding', 'had', 'whatever', 'next', 'someone', 'five', 'alone', 'has', 'elsewhere', 'where', 'a', 'otherwise', 'they', 'something', 'as', 'for', 'of', 'your', 'both', 'top', 'whereafter', 'upon', 'his', '‘re', 'else', 'itself', 'everywhere', 'these', 'or', 'i', 'empty', 'therefore', 'he', '’ll', 'whose', 'towards', 'hence', 'nine', 'until', 'from', 'down', 'thence', 'serious', '’re', 'am', 'indeed', 'before', 'fifteen', 'besides', 'whoever', 'even', 'show', 'during', 'ever', 'yet', 'across', 're', 'thereby', 'often', 'their', 'not', 'well', 'anyhow', 'over', 'perhaps', 'take', 'ten', 'twelve', 'here', 'make', 'nor', 'on', 'being', 'wherever', 'namely', 'up', 'made', 'get', 'only', 'since', 'used', 'also', 'least', 'side', 'part', 'through', 'see', 'whom', 'ca', 'others', 'can', 'via', 'due', \"'ll\", '’d', 'back', 'who', 'meanwhile', 'four', 'our', 'three', 'enough', 'per', 'when', 'bottom', 'behind', 'will', 'do', 'so', 'seemed', 'anyway', 'himself', 'thru', \"'d\", 'moreover', 'whereas', 'front', 'but', 'almost', 'same', 'been', 'does', 'anything', 'other', 'ourselves', 'again', 'thereupon', 'in', 'because', 'might', 'however', 'out', 'six', 'herself', 'thereafter', 'yours', 'along', 'hereafter', 'be', 'what', 'wherein', 'such', 'formerly', 'into', 'whereupon', 'anywhere', 'sometime', 'the', '’s', 'within', 'at', 'mine', 'we', 'everything', 'already', 'is', 'are', 'another', '’m', 'should', 'no', 'move', 'us', 'whither', 'various', 'fifty', 'keep', 'there', 'put', 'afterwards', 'those', 'off', 'an', 'just', 'whence', 'she', 'whereby', 'around', 'sometimes', 'everyone', 'why', 'nevertheless', 'onto', 'done', 'go', 'it', 'unless', 'beside', 'few', 'sixty', 'give', 'while', 'always', 'say', 'somewhere', 'myself', 'less', 'herein', 'among', 'about', 'did', 'how', 'than', 'have', 'rather', \"'m\", \"n't\", 'several', 'my', 'to', 'you', 'any', 'that', 'once', 'forty', 'against', 'hereupon', 'neither', 'two', 'own', 'her', 'under', 'more', 'become', 'all', '’ve', 'after', 'some', 'seems', 'one', 'anyone', 'amongst', 'whether', '‘ll', 'former', 'further', 'somehow', 'none', \"'ve\", 'name', 'were', 'amount', 'please', 'noone', 'seeming', 'hereby', 'third', 'seem', 'if', 'nothing', 'really', 'may', 'would', 'quite', 'each', 'ours', 'without', 'nowhere', 'thus', '‘s', 'must', '‘d', 'eleven', 'full', 'very', 'this', 'doing', 'with', 'its', 'beforehand', 'whole', \"'s\", '‘m', 'most', 'me', 'either', 'between', 'him', 'and', 'call', 'eight', 'though', 'much', 'themselves', 'yourselves', 'n’t', 'together', 'below', 'was', 'therein', 'now', 'although', 'above', 'first', 'throughout', 'by', 'which', 'every', 'n‘t', 'last', 'beyond', 'too', 'hers', 'nobody', 'then', 'cannot', 'using', 'hundred', 'many', 'mostly', 'becomes', \"'re\", 'still', 'them', 'latter', '‘ve', 'becoming', 'yourself', 'except', 'whenever', 'could', 'toward', 'never'}\n"
     ]
    }
   ],
   "source": [
    "#spacy\n",
    "from spacy.lang.en.stop_words import STOP_WORDS\n",
    "print(len(STOP_WORDS))\n",
    "print(STOP_WORDS)"
   ]
  },
  {
   "cell_type": "code",
   "execution_count": 29,
   "metadata": {},
   "outputs": [
    {
     "name": "stdout",
     "output_type": "stream",
     "text": [
      "Hi! How was your result and What's your CGPA now?\n",
      "['Hi', '!', 'result', 'CGPA', '?']\n",
      "['How', 'was', 'your', 'and', 'What', \"'s\", 'your', 'now']\n"
     ]
    }
   ],
   "source": [
    "sentence = nlp(\"Hi! How was your result and What's your CGPA now?\")\n",
    "print(sentence)\n",
    "notStopWords = [notStopWords.text for notStopWords in sentence if not notStopWords.is_stop]\n",
    "print(notStopWords)\n",
    "stopWords = [stopWords.text for stopWords in sentence if stopWords.is_stop]\n",
    "print(stopWords)"
   ]
  },
  {
   "cell_type": "code",
   "execution_count": 30,
   "metadata": {},
   "outputs": [
    {
     "name": "stdout",
     "output_type": "stream",
     "text": [
      "327\n",
      "{'latterly', 'became', 'twenty', 'regarding', 'had', 'whatever', 'next', 'someone', 'five', 'alone', 'has', 'elsewhere', 'where', 'a', 'otherwise', 'they', 'something', 'as', 'for', 'of', 'your', 'both', 'top', 'whereafter', 'upon', 'his', '‘re', 'else', 'itself', 'everywhere', 'these', 'or', 'i', 'empty', 'therefore', 'he', '’ll', 'whose', 'towards', 'hence', 'nine', 'until', 'from', 'down', 'thence', 'serious', '’re', 'am', 'indeed', 'before', 'fifteen', 'besides', 'whoever', 'even', 'show', 'during', 'ever', 'yet', 'across', 're', 'thereby', 'often', 'their', 'not', 'well', 'anyhow', 'over', 'perhaps', 'take', 'ten', 'twelve', 'here', 'make', 'nor', 'on', 'being', 'wherever', 'namely', 'up', 'made', 'get', 'only', 'since', 'used', 'also', 'least', 'side', 'part', 'through', 'see', 'whom', 'ca', 'others', 'can', 'via', 'due', \"'ll\", '’d', 'back', 'who', 'meanwhile', 'four', 'our', 'three', 'enough', 'per', 'when', 'bottom', 'behind', 'will', 'do', 'so', 'seemed', 'anyway', 'himself', 'thru', \"'d\", 'moreover', 'whereas', 'front', 'but', 'almost', 'same', 'been', 'does', 'anything', 'other', 'ourselves', 'again', 'thereupon', 'in', 'because', 'might', 'however', 'out', 'six', 'herself', 'thereafter', 'yours', 'along', 'hereafter', 'be', 'what', 'wherein', 'such', 'formerly', 'into', 'whereupon', 'CGPA', 'anywhere', 'sometime', 'the', '’s', 'within', 'at', 'mine', 'we', 'everything', 'already', 'is', 'are', 'another', '’m', 'should', 'no', 'move', 'us', 'whither', 'various', 'fifty', 'keep', 'there', 'put', 'afterwards', 'those', 'off', 'an', 'just', 'whence', 'she', 'whereby', 'around', 'sometimes', 'everyone', 'why', 'nevertheless', 'onto', 'done', 'go', 'it', 'unless', 'beside', 'few', 'sixty', 'give', 'while', 'always', 'say', 'somewhere', 'myself', 'less', 'herein', 'among', 'about', 'did', 'how', 'than', 'have', 'rather', \"'m\", \"n't\", 'several', 'my', 'to', 'you', 'any', 'that', 'once', 'forty', 'against', 'hereupon', 'neither', 'two', 'own', 'her', 'under', 'more', 'become', 'all', '’ve', 'after', 'some', 'seems', 'one', 'anyone', 'amongst', 'whether', '‘ll', 'former', 'further', 'somehow', 'none', \"'ve\", 'name', 'were', 'amount', 'please', 'noone', 'seeming', 'hereby', 'third', 'seem', 'if', 'nothing', 'really', 'may', 'would', 'quite', 'each', 'ours', 'without', 'nowhere', 'thus', '‘s', 'must', '‘d', 'eleven', 'full', 'very', 'this', 'doing', 'with', 'its', 'beforehand', 'whole', \"'s\", '‘m', 'most', 'me', 'either', 'between', 'him', 'and', 'call', 'eight', 'though', 'much', 'themselves', 'yourselves', 'n’t', 'together', 'below', 'was', 'therein', 'now', 'although', 'above', 'first', 'throughout', 'by', 'which', 'every', 'n‘t', 'last', 'beyond', 'too', 'hers', 'nobody', 'then', 'cannot', 'using', 'hundred', 'many', 'mostly', 'becomes', \"'re\", 'still', 'them', 'latter', '‘ve', 'becoming', 'yourself', 'except', 'whenever', 'could', 'toward', 'never'}\n"
     ]
    }
   ],
   "source": [
    "STOP_WORDS.add(\"CGPA\")\n",
    "print(len(STOP_WORDS))\n",
    "print(STOP_WORDS)"
   ]
  },
  {
   "cell_type": "code",
   "execution_count": 31,
   "metadata": {},
   "outputs": [
    {
     "name": "stdout",
     "output_type": "stream",
     "text": [
      "326\n",
      "{'latterly', 'became', 'twenty', 'regarding', 'had', 'whatever', 'next', 'someone', 'five', 'alone', 'has', 'elsewhere', 'where', 'a', 'otherwise', 'they', 'something', 'as', 'for', 'of', 'your', 'both', 'top', 'whereafter', 'upon', 'his', '‘re', 'else', 'itself', 'everywhere', 'these', 'or', 'i', 'empty', 'therefore', 'he', '’ll', 'whose', 'towards', 'hence', 'nine', 'until', 'from', 'down', 'thence', 'serious', '’re', 'am', 'indeed', 'before', 'fifteen', 'besides', 'whoever', 'even', 'show', 'during', 'ever', 'yet', 'across', 're', 'thereby', 'often', 'their', 'not', 'well', 'anyhow', 'over', 'perhaps', 'take', 'ten', 'twelve', 'here', 'make', 'nor', 'on', 'being', 'wherever', 'namely', 'up', 'made', 'get', 'only', 'since', 'used', 'also', 'least', 'side', 'part', 'through', 'see', 'whom', 'ca', 'others', 'can', 'via', 'due', \"'ll\", '’d', 'back', 'who', 'meanwhile', 'four', 'our', 'three', 'enough', 'per', 'when', 'bottom', 'behind', 'will', 'do', 'so', 'seemed', 'anyway', 'himself', 'thru', \"'d\", 'moreover', 'whereas', 'front', 'but', 'almost', 'same', 'been', 'does', 'anything', 'other', 'ourselves', 'again', 'thereupon', 'in', 'because', 'might', 'however', 'out', 'six', 'herself', 'thereafter', 'yours', 'along', 'hereafter', 'be', 'what', 'wherein', 'such', 'formerly', 'into', 'whereupon', 'anywhere', 'sometime', 'the', '’s', 'within', 'at', 'mine', 'we', 'everything', 'already', 'is', 'are', 'another', '’m', 'should', 'no', 'move', 'us', 'whither', 'various', 'fifty', 'keep', 'there', 'put', 'afterwards', 'those', 'off', 'an', 'just', 'whence', 'she', 'whereby', 'around', 'sometimes', 'everyone', 'why', 'nevertheless', 'onto', 'done', 'go', 'it', 'unless', 'beside', 'few', 'sixty', 'give', 'while', 'always', 'say', 'somewhere', 'myself', 'less', 'herein', 'among', 'about', 'did', 'how', 'than', 'have', 'rather', \"'m\", \"n't\", 'several', 'my', 'to', 'you', 'any', 'that', 'once', 'forty', 'against', 'hereupon', 'neither', 'two', 'own', 'her', 'under', 'more', 'become', 'all', '’ve', 'after', 'some', 'seems', 'one', 'anyone', 'amongst', 'whether', '‘ll', 'former', 'further', 'somehow', 'none', \"'ve\", 'name', 'were', 'amount', 'please', 'noone', 'seeming', 'hereby', 'third', 'seem', 'if', 'nothing', 'really', 'may', 'would', 'quite', 'each', 'ours', 'without', 'nowhere', 'thus', '‘s', 'must', '‘d', 'eleven', 'full', 'very', 'this', 'doing', 'with', 'its', 'beforehand', 'whole', \"'s\", '‘m', 'most', 'me', 'either', 'between', 'him', 'and', 'call', 'eight', 'though', 'much', 'themselves', 'yourselves', 'n’t', 'together', 'below', 'was', 'therein', 'now', 'although', 'above', 'first', 'throughout', 'by', 'which', 'every', 'n‘t', 'last', 'beyond', 'too', 'hers', 'nobody', 'then', 'cannot', 'using', 'hundred', 'many', 'mostly', 'becomes', \"'re\", 'still', 'them', 'latter', '‘ve', 'becoming', 'yourself', 'except', 'whenever', 'could', 'toward', 'never'}\n"
     ]
    }
   ],
   "source": [
    "STOP_WORDS.remove(\"CGPA\")\n",
    "print(len(STOP_WORDS))\n",
    "print(STOP_WORDS)"
   ]
  },
  {
   "cell_type": "code",
   "execution_count": 32,
   "metadata": {},
   "outputs": [
    {
     "name": "stdout",
     "output_type": "stream",
     "text": [
      "328\n",
      "{'latterly', 'became', 'twenty', 'regarding', 'had', 'whatever', 'next', 'someone', 'five', 'alone', 'has', 'elsewhere', 'where', 'a', 'otherwise', 'they', 'something', 'as', 'for', 'of', 'your', 'both', 'top', 'whereafter', 'upon', 'his', '‘re', 'else', 'itself', 'everywhere', 'these', 'or', 'i', 'empty', 'therefore', 'he', '’ll', 'whose', 'towards', 'hence', 'nine', 'until', 'from', 'down', 'thence', 'serious', '’re', 'am', 'indeed', 'before', 'fifteen', 'besides', 'whoever', 'even', 'show', 'during', 'ever', 'yet', 'across', 're', 'thereby', 'often', 'their', 'not', 'well', 'anyhow', 'over', 'perhaps', 'take', 'ten', 'twelve', 'here', 'make', 'nor', 'on', 'being', 'wherever', 'namely', 'up', 'made', 'get', 'only', 'since', 'used', 'also', 'least', 'side', 'part', 'through', 'see', 'whom', 'ca', 'others', 'can', 'via', 'due', \"'ll\", '’d', 'back', 'who', 'meanwhile', 'four', 'our', 'three', 'enough', 'per', 'when', 'bottom', 'behind', 'will', 'do', 'so', 'seemed', 'anyway', 'himself', 'thru', \"'d\", 'moreover', 'whereas', 'front', 'but', 'almost', 'same', 'been', 'does', 'anything', 'other', 'ourselves', 'again', 'thereupon', 'in', 'because', 'might', 'however', 'out', 'six', 'herself', 'thereafter', 'yours', 'along', 'hereafter', 'be', 'what', 'wherein', 'such', 'formerly', 'into', 'whereupon', 'CGPA', 'anywhere', 'sometime', 'the', '’s', 'within', 'at', 'mine', 'we', 'everything', 'already', 'is', 'are', 'another', '’m', 'should', 'no', 'move', 'us', 'whither', 'various', 'fifty', 'keep', 'there', 'put', 'afterwards', 'those', 'off', 'an', 'just', 'whence', 'she', 'whereby', 'around', 'sometimes', 'everyone', 'why', 'nevertheless', 'onto', 'done', 'go', 'it', 'unless', 'beside', 'few', 'sixty', 'give', 'while', 'always', 'say', 'somewhere', 'myself', 'less', 'herein', 'among', 'about', 'did', 'how', 'than', 'have', 'rather', \"'m\", \"n't\", 'several', 'my', 'to', 'you', 'any', 'that', 'once', 'forty', 'against', 'hereupon', 'neither', 'two', 'own', 'her', 'under', 'more', 'become', 'all', '’ve', 'after', 'some', 'seems', 'one', 'anyone', 'amongst', 'whether', '‘ll', 'former', 'further', 'somehow', 'none', \"'ve\", 'name', 'were', 'amount', 'please', 'noone', 'seeming', 'hereby', 'third', 'seem', 'if', 'nothing', 'really', 'may', 'would', 'quite', 'each', 'ours', 'without', 'nowhere', 'thus', '‘s', 'must', '‘d', 'eleven', 'full', 'very', 'this', 'doing', 'with', 'its', 'beforehand', 'whole', \"'s\", '‘m', 'most', 'me', 'either', 'between', 'him', 'and', 'call', 'eight', 'though', 'much', 'themselves', 'yourselves', 'n’t', 'together', 'below', 'was', 'SGPA', 'therein', 'now', 'although', 'above', 'first', 'throughout', 'by', 'which', 'every', 'n‘t', 'last', 'beyond', 'too', 'hers', 'nobody', 'then', 'cannot', 'using', 'hundred', 'many', 'mostly', 'becomes', \"'re\", 'still', 'them', 'latter', '‘ve', 'becoming', 'yourself', 'except', 'whenever', 'could', 'toward', 'never'}\n"
     ]
    }
   ],
   "source": [
    "STOP_WORDS |= {\"CGPA\",\"SGPA\"}\n",
    "print(len(STOP_WORDS))\n",
    "print(STOP_WORDS)"
   ]
  },
  {
   "cell_type": "code",
   "execution_count": 33,
   "metadata": {},
   "outputs": [
    {
     "name": "stdout",
     "output_type": "stream",
     "text": [
      "326\n",
      "{'latterly', 'became', 'twenty', 'regarding', 'had', 'whatever', 'next', 'someone', 'five', 'alone', 'has', 'elsewhere', 'where', 'a', 'otherwise', 'they', 'something', 'as', 'for', 'of', 'your', 'both', 'top', 'whereafter', 'upon', 'his', '‘re', 'else', 'itself', 'everywhere', 'these', 'or', 'i', 'empty', 'therefore', 'he', '’ll', 'whose', 'towards', 'hence', 'nine', 'until', 'from', 'down', 'thence', 'serious', '’re', 'am', 'indeed', 'before', 'fifteen', 'besides', 'whoever', 'even', 'show', 'during', 'ever', 'yet', 'across', 're', 'thereby', 'often', 'their', 'not', 'well', 'anyhow', 'over', 'perhaps', 'take', 'ten', 'twelve', 'here', 'make', 'nor', 'on', 'being', 'wherever', 'namely', 'up', 'made', 'get', 'only', 'since', 'used', 'also', 'least', 'side', 'part', 'through', 'see', 'whom', 'ca', 'others', 'can', 'via', 'due', \"'ll\", '’d', 'back', 'who', 'meanwhile', 'four', 'our', 'three', 'enough', 'per', 'when', 'bottom', 'behind', 'will', 'do', 'so', 'seemed', 'anyway', 'himself', 'thru', \"'d\", 'moreover', 'whereas', 'front', 'but', 'almost', 'same', 'been', 'does', 'anything', 'other', 'ourselves', 'again', 'thereupon', 'in', 'because', 'might', 'however', 'out', 'six', 'herself', 'thereafter', 'yours', 'along', 'hereafter', 'be', 'what', 'wherein', 'such', 'formerly', 'into', 'whereupon', 'anywhere', 'sometime', 'the', '’s', 'within', 'at', 'mine', 'we', 'everything', 'already', 'is', 'are', 'another', '’m', 'should', 'no', 'move', 'us', 'whither', 'various', 'fifty', 'keep', 'there', 'put', 'afterwards', 'those', 'off', 'an', 'just', 'whence', 'she', 'whereby', 'around', 'sometimes', 'everyone', 'why', 'nevertheless', 'onto', 'done', 'go', 'it', 'unless', 'beside', 'few', 'sixty', 'give', 'while', 'always', 'say', 'somewhere', 'myself', 'less', 'herein', 'among', 'about', 'did', 'how', 'than', 'have', 'rather', \"'m\", \"n't\", 'several', 'my', 'to', 'you', 'any', 'that', 'once', 'forty', 'against', 'hereupon', 'neither', 'two', 'own', 'her', 'under', 'more', 'become', 'all', '’ve', 'after', 'some', 'seems', 'one', 'anyone', 'amongst', 'whether', '‘ll', 'former', 'further', 'somehow', 'none', \"'ve\", 'name', 'were', 'amount', 'please', 'noone', 'seeming', 'hereby', 'third', 'seem', 'if', 'nothing', 'really', 'may', 'would', 'quite', 'each', 'ours', 'without', 'nowhere', 'thus', '‘s', 'must', '‘d', 'eleven', 'full', 'very', 'this', 'doing', 'with', 'its', 'beforehand', 'whole', \"'s\", '‘m', 'most', 'me', 'either', 'between', 'him', 'and', 'call', 'eight', 'though', 'much', 'themselves', 'yourselves', 'n’t', 'together', 'below', 'was', 'therein', 'now', 'although', 'above', 'first', 'throughout', 'by', 'which', 'every', 'n‘t', 'last', 'beyond', 'too', 'hers', 'nobody', 'then', 'cannot', 'using', 'hundred', 'many', 'mostly', 'becomes', \"'re\", 'still', 'them', 'latter', '‘ve', 'becoming', 'yourself', 'except', 'whenever', 'could', 'toward', 'never'}\n"
     ]
    }
   ],
   "source": [
    "STOP_WORDS -= {\"CGPA\",\"SGPA\"}\n",
    "print(len(STOP_WORDS))\n",
    "print(STOP_WORDS)"
   ]
  },
  {
   "cell_type": "code",
   "execution_count": 34,
   "metadata": {},
   "outputs": [],
   "source": [
    "#nltk\n",
    "from nltk.corpus import stopwords"
   ]
  },
  {
   "cell_type": "code",
   "execution_count": 35,
   "metadata": {},
   "outputs": [
    {
     "name": "stdout",
     "output_type": "stream",
     "text": [
      "<WordListCorpusReader in '.../corpora/stopwords' (not loaded yet)>\n"
     ]
    }
   ],
   "source": [
    "print(stopwords)"
   ]
  },
  {
   "cell_type": "code",
   "execution_count": 36,
   "metadata": {},
   "outputs": [
    {
     "name": "stdout",
     "output_type": "stream",
     "text": [
      "179\n",
      "['i', 'me', 'my', 'myself', 'we', 'our', 'ours', 'ourselves', 'you', \"you're\", \"you've\", \"you'll\", \"you'd\", 'your', 'yours', 'yourself', 'yourselves', 'he', 'him', 'his', 'himself', 'she', \"she's\", 'her', 'hers', 'herself', 'it', \"it's\", 'its', 'itself', 'they', 'them', 'their', 'theirs', 'themselves', 'what', 'which', 'who', 'whom', 'this', 'that', \"that'll\", 'these', 'those', 'am', 'is', 'are', 'was', 'were', 'be', 'been', 'being', 'have', 'has', 'had', 'having', 'do', 'does', 'did', 'doing', 'a', 'an', 'the', 'and', 'but', 'if', 'or', 'because', 'as', 'until', 'while', 'of', 'at', 'by', 'for', 'with', 'about', 'against', 'between', 'into', 'through', 'during', 'before', 'after', 'above', 'below', 'to', 'from', 'up', 'down', 'in', 'out', 'on', 'off', 'over', 'under', 'again', 'further', 'then', 'once', 'here', 'there', 'when', 'where', 'why', 'how', 'all', 'any', 'both', 'each', 'few', 'more', 'most', 'other', 'some', 'such', 'no', 'nor', 'not', 'only', 'own', 'same', 'so', 'than', 'too', 'very', 's', 't', 'can', 'will', 'just', 'don', \"don't\", 'should', \"should've\", 'now', 'd', 'll', 'm', 'o', 're', 've', 'y', 'ain', 'aren', \"aren't\", 'couldn', \"couldn't\", 'didn', \"didn't\", 'doesn', \"doesn't\", 'hadn', \"hadn't\", 'hasn', \"hasn't\", 'haven', \"haven't\", 'isn', \"isn't\", 'ma', 'mightn', \"mightn't\", 'mustn', \"mustn't\", 'needn', \"needn't\", 'shan', \"shan't\", 'shouldn', \"shouldn't\", 'wasn', \"wasn't\", 'weren', \"weren't\", 'won', \"won't\", 'wouldn', \"wouldn't\"]\n"
     ]
    }
   ],
   "source": [
    "StopWords = nltk.corpus.stopwords.words('english')\n",
    "print(len(StopWords))\n",
    "print(StopWords)"
   ]
  },
  {
   "cell_type": "code",
   "execution_count": 37,
   "metadata": {},
   "outputs": [
    {
     "name": "stdout",
     "output_type": "stream",
     "text": [
      "Hi! How was your result and What's your CGPA now?\n",
      "['Hi', '!', 'How', 'was', 'your', 'result', 'and', 'What', \"'s\", 'your', 'CGPA', 'now', '?']\n",
      "['Hi', '!', 'How', 'result', 'What', \"'s\", 'CGPA', '?']\n",
      "['was', 'your', 'and', 'your', 'now']\n"
     ]
    }
   ],
   "source": [
    "sentence = \"Hi! How was your result and What's your CGPA now?\"\n",
    "print(sentence)\n",
    "sentence = nltk.tokenize.word_tokenize(sentence)\n",
    "print(sentence)\n",
    "notStopWords = [notStopWords for notStopWords in sentence if not notStopWords in StopWords]\n",
    "print(notStopWords)\n",
    "stopWords = [stopWords for stopWords in sentence if stopWords in StopWords]\n",
    "print(stopWords)"
   ]
  },
  {
   "cell_type": "code",
   "execution_count": 38,
   "metadata": {},
   "outputs": [
    {
     "name": "stdout",
     "output_type": "stream",
     "text": [
      "180\n",
      "['i', 'me', 'my', 'myself', 'we', 'our', 'ours', 'ourselves', 'you', \"you're\", \"you've\", \"you'll\", \"you'd\", 'your', 'yours', 'yourself', 'yourselves', 'he', 'him', 'his', 'himself', 'she', \"she's\", 'her', 'hers', 'herself', 'it', \"it's\", 'its', 'itself', 'they', 'them', 'their', 'theirs', 'themselves', 'what', 'which', 'who', 'whom', 'this', 'that', \"that'll\", 'these', 'those', 'am', 'is', 'are', 'was', 'were', 'be', 'been', 'being', 'have', 'has', 'had', 'having', 'do', 'does', 'did', 'doing', 'a', 'an', 'the', 'and', 'but', 'if', 'or', 'because', 'as', 'until', 'while', 'of', 'at', 'by', 'for', 'with', 'about', 'against', 'between', 'into', 'through', 'during', 'before', 'after', 'above', 'below', 'to', 'from', 'up', 'down', 'in', 'out', 'on', 'off', 'over', 'under', 'again', 'further', 'then', 'once', 'here', 'there', 'when', 'where', 'why', 'how', 'all', 'any', 'both', 'each', 'few', 'more', 'most', 'other', 'some', 'such', 'no', 'nor', 'not', 'only', 'own', 'same', 'so', 'than', 'too', 'very', 's', 't', 'can', 'will', 'just', 'don', \"don't\", 'should', \"should've\", 'now', 'd', 'll', 'm', 'o', 're', 've', 'y', 'ain', 'aren', \"aren't\", 'couldn', \"couldn't\", 'didn', \"didn't\", 'doesn', \"doesn't\", 'hadn', \"hadn't\", 'hasn', \"hasn't\", 'haven', \"haven't\", 'isn', \"isn't\", 'ma', 'mightn', \"mightn't\", 'mustn', \"mustn't\", 'needn', \"needn't\", 'shan', \"shan't\", 'shouldn', \"shouldn't\", 'wasn', \"wasn't\", 'weren', \"weren't\", 'won', \"won't\", 'wouldn', \"wouldn't\", 'CGPA']\n"
     ]
    }
   ],
   "source": [
    "StopWords.append(\"CGPA\")\n",
    "print(len(StopWords))\n",
    "print(StopWords)"
   ]
  },
  {
   "cell_type": "code",
   "execution_count": 39,
   "metadata": {
    "scrolled": true
   },
   "outputs": [
    {
     "name": "stdout",
     "output_type": "stream",
     "text": [
      "179\n",
      "['i', 'me', 'my', 'myself', 'we', 'our', 'ours', 'ourselves', 'you', \"you're\", \"you've\", \"you'll\", \"you'd\", 'your', 'yours', 'yourself', 'yourselves', 'he', 'him', 'his', 'himself', 'she', \"she's\", 'her', 'hers', 'herself', 'it', \"it's\", 'its', 'itself', 'they', 'them', 'their', 'theirs', 'themselves', 'what', 'which', 'who', 'whom', 'this', 'that', \"that'll\", 'these', 'those', 'am', 'is', 'are', 'was', 'were', 'be', 'been', 'being', 'have', 'has', 'had', 'having', 'do', 'does', 'did', 'doing', 'a', 'an', 'the', 'and', 'but', 'if', 'or', 'because', 'as', 'until', 'while', 'of', 'at', 'by', 'for', 'with', 'about', 'against', 'between', 'into', 'through', 'during', 'before', 'after', 'above', 'below', 'to', 'from', 'up', 'down', 'in', 'out', 'on', 'off', 'over', 'under', 'again', 'further', 'then', 'once', 'here', 'there', 'when', 'where', 'why', 'how', 'all', 'any', 'both', 'each', 'few', 'more', 'most', 'other', 'some', 'such', 'no', 'nor', 'not', 'only', 'own', 'same', 'so', 'than', 'too', 'very', 's', 't', 'can', 'will', 'just', 'don', \"don't\", 'should', \"should've\", 'now', 'd', 'll', 'm', 'o', 're', 've', 'y', 'ain', 'aren', \"aren't\", 'couldn', \"couldn't\", 'didn', \"didn't\", 'doesn', \"doesn't\", 'hadn', \"hadn't\", 'hasn', \"hasn't\", 'haven', \"haven't\", 'isn', \"isn't\", 'ma', 'mightn', \"mightn't\", 'mustn', \"mustn't\", 'needn', \"needn't\", 'shan', \"shan't\", 'shouldn', \"shouldn't\", 'wasn', \"wasn't\", 'weren', \"weren't\", 'won', \"won't\", 'wouldn', \"wouldn't\"]\n"
     ]
    }
   ],
   "source": [
    "StopWords.remove(\"CGPA\")\n",
    "print(len(StopWords))\n",
    "print(StopWords)"
   ]
  },
  {
   "cell_type": "code",
   "execution_count": 40,
   "metadata": {
    "scrolled": true
   },
   "outputs": [
    {
     "name": "stdout",
     "output_type": "stream",
     "text": [
      "181\n",
      "['i', 'me', 'my', 'myself', 'we', 'our', 'ours', 'ourselves', 'you', \"you're\", \"you've\", \"you'll\", \"you'd\", 'your', 'yours', 'yourself', 'yourselves', 'he', 'him', 'his', 'himself', 'she', \"she's\", 'her', 'hers', 'herself', 'it', \"it's\", 'its', 'itself', 'they', 'them', 'their', 'theirs', 'themselves', 'what', 'which', 'who', 'whom', 'this', 'that', \"that'll\", 'these', 'those', 'am', 'is', 'are', 'was', 'were', 'be', 'been', 'being', 'have', 'has', 'had', 'having', 'do', 'does', 'did', 'doing', 'a', 'an', 'the', 'and', 'but', 'if', 'or', 'because', 'as', 'until', 'while', 'of', 'at', 'by', 'for', 'with', 'about', 'against', 'between', 'into', 'through', 'during', 'before', 'after', 'above', 'below', 'to', 'from', 'up', 'down', 'in', 'out', 'on', 'off', 'over', 'under', 'again', 'further', 'then', 'once', 'here', 'there', 'when', 'where', 'why', 'how', 'all', 'any', 'both', 'each', 'few', 'more', 'most', 'other', 'some', 'such', 'no', 'nor', 'not', 'only', 'own', 'same', 'so', 'than', 'too', 'very', 's', 't', 'can', 'will', 'just', 'don', \"don't\", 'should', \"should've\", 'now', 'd', 'll', 'm', 'o', 're', 've', 'y', 'ain', 'aren', \"aren't\", 'couldn', \"couldn't\", 'didn', \"didn't\", 'doesn', \"doesn't\", 'hadn', \"hadn't\", 'hasn', \"hasn't\", 'haven', \"haven't\", 'isn', \"isn't\", 'ma', 'mightn', \"mightn't\", 'mustn', \"mustn't\", 'needn', \"needn't\", 'shan', \"shan't\", 'shouldn', \"shouldn't\", 'wasn', \"wasn't\", 'weren', \"weren't\", 'won', \"won't\", 'wouldn', \"wouldn't\", 'CGPA', 'SGPA']\n"
     ]
    }
   ],
   "source": [
    "newStopWords = ['CGPA','SGPA']\n",
    "StopWords.extend(newStopWords)\n",
    "print(len(StopWords))\n",
    "print(StopWords)"
   ]
  },
  {
   "cell_type": "code",
   "execution_count": 41,
   "metadata": {
    "scrolled": false
   },
   "outputs": [
    {
     "name": "stdout",
     "output_type": "stream",
     "text": [
      "179\n",
      "['i', 'me', 'my', 'myself', 'we', 'our', 'ours', 'ourselves', 'you', \"you're\", \"you've\", \"you'll\", \"you'd\", 'your', 'yours', 'yourself', 'yourselves', 'he', 'him', 'his', 'himself', 'she', \"she's\", 'her', 'hers', 'herself', 'it', \"it's\", 'its', 'itself', 'they', 'them', 'their', 'theirs', 'themselves', 'what', 'which', 'who', 'whom', 'this', 'that', \"that'll\", 'these', 'those', 'am', 'is', 'are', 'was', 'were', 'be', 'been', 'being', 'have', 'has', 'had', 'having', 'do', 'does', 'did', 'doing', 'a', 'an', 'the', 'and', 'but', 'if', 'or', 'because', 'as', 'until', 'while', 'of', 'at', 'by', 'for', 'with', 'about', 'against', 'between', 'into', 'through', 'during', 'before', 'after', 'above', 'below', 'to', 'from', 'up', 'down', 'in', 'out', 'on', 'off', 'over', 'under', 'again', 'further', 'then', 'once', 'here', 'there', 'when', 'where', 'why', 'how', 'all', 'any', 'both', 'each', 'few', 'more', 'most', 'other', 'some', 'such', 'no', 'nor', 'not', 'only', 'own', 'same', 'so', 'than', 'too', 'very', 's', 't', 'can', 'will', 'just', 'don', \"don't\", 'should', \"should've\", 'now', 'd', 'll', 'm', 'o', 're', 've', 'y', 'ain', 'aren', \"aren't\", 'couldn', \"couldn't\", 'didn', \"didn't\", 'doesn', \"doesn't\", 'hadn', \"hadn't\", 'hasn', \"hasn't\", 'haven', \"haven't\", 'isn', \"isn't\", 'ma', 'mightn', \"mightn't\", 'mustn', \"mustn't\", 'needn', \"needn't\", 'shan', \"shan't\", 'shouldn', \"shouldn't\", 'wasn', \"wasn't\", 'weren', \"weren't\", 'won', \"won't\", 'wouldn', \"wouldn't\"]\n"
     ]
    }
   ],
   "source": [
    "OldStopWords = [OldStopWords for OldStopWords in StopWords if OldStopWords not in newStopWords]\n",
    "print(len(OldStopWords))\n",
    "print(OldStopWords)"
   ]
  },
  {
   "cell_type": "markdown",
   "metadata": {},
   "source": [
    "# POS(part of speech)"
   ]
  },
  {
   "cell_type": "code",
   "execution_count": 42,
   "metadata": {},
   "outputs": [
    {
     "name": "stdout",
     "output_type": "stream",
     "text": [
      "If --> SCONJ\n",
      "you --> PRON\n",
      "ate --> VERB\n",
      "two --> NUM\n",
      "apples --> NOUN\n",
      ", --> PUNCT\n",
      "then --> ADV\n",
      "you --> PRON\n",
      "are --> AUX\n",
      "rich --> ADJ\n",
      "but --> CCONJ\n",
      "if --> SCONJ\n",
      "you --> PRON\n",
      "could --> VERB\n",
      "eat --> VERB\n",
      "2 --> NUM\n",
      "onions --> NOUN\n",
      ", --> PUNCT\n",
      "you --> PRON\n",
      "are --> AUX\n",
      "richer --> ADJ\n",
      ". --> PUNCT\n"
     ]
    }
   ],
   "source": [
    "for token in nlp(text1):\n",
    "    print('{} --> {}'.format(token, token.pos_))"
   ]
  },
  {
   "cell_type": "code",
   "execution_count": 43,
   "metadata": {},
   "outputs": [
    {
     "name": "stdout",
     "output_type": "stream",
     "text": [
      "[('Hence', 'NNP'), (',', ','), ('I', 'PRP'), ('am', 'VBP'), ('the', 'DT'), ('richest', 'NN'), ('of', 'IN'), ('all', 'DT'), ('because', 'IN'), ('I', 'PRP'), ('can', 'MD'), ('eat', 'VB'), ('both', 'DT'), ('.', '.')]\n"
     ]
    }
   ],
   "source": [
    "print(nltk.pos_tag(tokenized))"
   ]
  },
  {
   "cell_type": "markdown",
   "metadata": {},
   "source": [
    "# Chunking or Shallow parsing"
   ]
  },
  {
   "cell_type": "code",
   "execution_count": 44,
   "metadata": {},
   "outputs": [
    {
     "name": "stdout",
     "output_type": "stream",
     "text": [
      "you --> NP\n",
      "two apples --> NP\n",
      "you --> NP\n",
      "you --> NP\n",
      "2 onions --> NP\n",
      "you --> NP\n"
     ]
    }
   ],
   "source": [
    "#noun phrase(NP)\n",
    "for chunk in nlp(text1).noun_chunks:\n",
    "    print ('{} --> {}'.format(chunk, chunk.label_))"
   ]
  },
  {
   "cell_type": "code",
   "execution_count": null,
   "metadata": {},
   "outputs": [],
   "source": []
  }
 ],
 "metadata": {
  "kernelspec": {
   "display_name": "Python 3",
   "language": "python",
   "name": "python3"
  },
  "language_info": {
   "codemirror_mode": {
    "name": "ipython",
    "version": 3
   },
   "file_extension": ".py",
   "mimetype": "text/x-python",
   "name": "python",
   "nbconvert_exporter": "python",
   "pygments_lexer": "ipython3",
   "version": "3.7.6"
  }
 },
 "nbformat": 4,
 "nbformat_minor": 4
}
